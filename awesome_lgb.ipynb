{
 "cells": [
  {
   "cell_type": "markdown",
   "metadata": {},
   "source": [
    "## <center>欢迎来到LightGBM的世界</center>"
   ]
  },
  {
   "cell_type": "markdown",
   "metadata": {},
   "source": [
    "### Mac下的编译安装"
   ]
  },
  {
   "cell_type": "markdown",
   "metadata": {},
   "source": [
    "\n",
    "#### 命令如下：\n",
    "\n",
    "brew install cmake\n",
    "\n",
    "brew install gcc --without-multilib\n",
    "\n",
    "\n",
    "git clone --recursive https://github.com/Microsoft/LightGBM\n",
    "\n",
    "cd LightGBM\n",
    "\n",
    "export CXX=g++-7 CC=gcc-7\n",
    "\n",
    "mkdir build\n",
    "\n",
    "cd build\n",
    "\n",
    "cmake ..\n",
    "\n",
    "make -j4\n",
    "\n",
    "pip3 install lightgbm\n",
    "\n",
    "\n",
    "#### 温暖提示：\n",
    "\n",
    "cd python-package\n",
    "\n",
    "sudo python setup.py install \n",
    "\n",
    "会依然提示CMake没有安装的问题，至今不知道是为什么？"
   ]
  },
  {
   "cell_type": "code",
   "execution_count": 2,
   "metadata": {
    "collapsed": true
   },
   "outputs": [],
   "source": [
    "import pandas as pd\n",
    "import numpy as np\n",
    "import lightgbm as lgb\n",
    "from sklearn.metrics import accuracy_score"
   ]
  },
  {
   "cell_type": "code",
   "execution_count": 37,
   "metadata": {
    "collapsed": false
   },
   "outputs": [
    {
     "data": {
      "text/plain": [
       "(700,)"
      ]
     },
     "execution_count": 37,
     "metadata": {},
     "output_type": "execute_result"
    }
   ],
   "source": [
    "train= pd.read_csv('multiclass.train', header=None, sep = '\\t')\n",
    "test= pd.read_csv('multiclass.test', header=None, sep = '\\t')\n",
    "num_train = train.shape[0]\n",
    "kfolds = 0.9\n",
    "\n",
    "\n",
    "X_train = train.ix[:int(kfolds * num_train),1:]\n",
    "y_train = train.ix[:int(kfolds * num_train),0]\n",
    "\n",
    "X_val = train.ix[int(kfolds * num_train):,1:]\n",
    "y_val = train.ix[int(kfolds * num_train):,0]\n",
    "\n",
    "X_test = test.ix[:,1:]\n",
    "y_test = test.ix[:,0]\n",
    "\n",
    "lgb_train = lgb.Dataset(X_train, y_train)\n",
    "lgb_test = lgb.Dataset(X_val, y_val)\n",
    "\n",
    "num_class = y_train.unique().max()+1\n"
   ]
  },
  {
   "cell_type": "code",
   "execution_count": 30,
   "metadata": {
    "collapsed": false
   },
   "outputs": [],
   "source": [
    "params = {\n",
    "            'task': 'train',\n",
    "            'boosting_type': 'gbdt',\n",
    "            'objective': 'multiclass',\n",
    "            'metric': {'multi_error'},\n",
    "            'num_class': num_class,\n",
    "            'num_leaves': 80,\n",
    "            'feature_fraction': 0.9,\n",
    "            'bagging_fraction': 0.8,\n",
    "            'bagging_freq': 4,\n",
    "            'verbose': 0,\n",
    "            #'device':'gpu'\n",
    "        }"
   ]
  },
  {
   "cell_type": "code",
   "execution_count": null,
   "metadata": {
    "collapsed": false
   },
   "outputs": [
    {
     "name": "stdout",
     "output_type": "stream",
     "text": [
      "[1]\tvalid_0's multi_error: 0.772857\n",
      "Training until validation scores don't improve for 3 rounds.\n",
      "[2]\tvalid_0's multi_error: 0.75\n",
      "[3]\tvalid_0's multi_error: 0.734286\n",
      "[4]\tvalid_0's multi_error: 0.72\n",
      "[5]\tvalid_0's multi_error: 0.702857\n",
      "[6]\tvalid_0's multi_error: 0.711429\n",
      "[7]\tvalid_0's multi_error: 0.711429\n",
      "[8]\tvalid_0's multi_error: 0.692857\n",
      "[9]\tvalid_0's multi_error: 0.691429\n",
      "[10]\tvalid_0's multi_error: 0.704286\n",
      "[11]\tvalid_0's multi_error: 0.687143\n",
      "[12]\tvalid_0's multi_error: 0.685714\n",
      "[13]\tvalid_0's multi_error: 0.672857\n",
      "[14]\tvalid_0's multi_error: 0.665714\n",
      "[15]\tvalid_0's multi_error: 0.665714\n",
      "[16]\tvalid_0's multi_error: 0.657143\n"
     ]
    }
   ],
   "source": [
    "min_merror = float('Inf')\n",
    "best_params = {}\n",
    "for learning_rate in [0.1]:\n",
    "    for num_boost_round in range(30, 31):\n",
    "        for max_depth in range(6, 8):\n",
    "            params['learning_rate'] = learning_rate\n",
    "            params['max_depth'] = max_depth\n",
    "            cv_results = lgb.cv(\n",
    "                            params,\n",
    "                            lgb_train,\n",
    "                            num_boost_round=num_boost_round,\n",
    "                            seed=42,\n",
    "                            nfold=3,\n",
    "                            metrics=['multi_error'],\n",
    "                            early_stopping_rounds=3\n",
    "                          )\n",
    "            mean_merror = pd.Series(cv_results['multi_error-mean']).min()\n",
    "            boost_rounds = pd.Series(cv_results['multi_error-mean']).argmin()\n",
    "            if mean_merror < min_merror:\n",
    "                min_merror = mean_merror\n",
    "                best_params['learning_rate'] = learning_rate\n",
    "                best_params['num_boost_round'] = boost_rounds\n",
    "                best_params['max_depth'] = max_depth\n",
    "\n",
    "params['learning_rate'] = best_params['learning_rate']\n",
    "params['max_depth'] = best_params['max_depth']\n",
    "num_round = best_params['num_boost_round']\n",
    "\n",
    "# using lgb_test as valid_sets\n",
    "gbm = lgb.train(params,\n",
    "                lgb_train,\n",
    "                num_boost_round=num_round,\n",
    "                valid_sets=lgb_test,\n",
    "                early_stopping_rounds=3)"
   ]
  },
  {
   "cell_type": "code",
   "execution_count": 58,
   "metadata": {
    "collapsed": false
   },
   "outputs": [
    {
     "name": "stdout",
     "output_type": "stream",
     "text": [
      "0.351428571429\n"
     ]
    }
   ],
   "source": [
    "y_pred = gbm.predict(X_val, num_iteration=gbm.best_iteration)\n",
    "acc = accuracy_score(y_val, np.argmax(y_pred, axis=1))\n",
    "print(acc)"
   ]
  },
  {
   "cell_type": "code",
   "execution_count": 44,
   "metadata": {
    "collapsed": false
   },
   "outputs": [
    {
     "name": "stdout",
     "output_type": "stream",
     "text": [
      "0.376\n"
     ]
    }
   ],
   "source": [
    "y_pred = gbm.predict(X_test, num_iteration=gbm.best_iteration)\n",
    "acc = accuracy_score(y_test, np.argmax(y_pred, axis=1))\n",
    "print(acc)"
   ]
  },
  {
   "cell_type": "code",
   "execution_count": 46,
   "metadata": {
    "collapsed": false
   },
   "outputs": [],
   "source": [
    "gbm.save_model('model.001')"
   ]
  },
  {
   "cell_type": "code",
   "execution_count": 55,
   "metadata": {
    "collapsed": false
   },
   "outputs": [
    {
     "name": "stdout",
     "output_type": "stream",
     "text": [
      "{'auc-mean': [0.41206949953192146], 'auc-stdv': [0.0039421307840286929]}\n"
     ]
    }
   ],
   "source": [
    "params['metric'] = 'auc'\n",
    "bst=lgb.cv(params, lgb_train, num_boost_round=10, nfold=3, early_stopping_rounds=3)\n",
    "print(bst)\n",
    "estimators = lgb.train(params, lgb_train,num_boost_round=len(bst['auc-mean']))\n",
    "\n",
    "y_pred = estimators.predict(X_)"
   ]
  },
  {
   "cell_type": "code",
   "execution_count": null,
   "metadata": {
    "collapsed": true
   },
   "outputs": [],
   "source": []
  }
 ],
 "metadata": {
  "kernelspec": {
   "display_name": "Python 3",
   "language": "python",
   "name": "python3"
  },
  "language_info": {
   "codemirror_mode": {
    "name": "ipython",
    "version": 3
   },
   "file_extension": ".py",
   "mimetype": "text/x-python",
   "name": "python",
   "nbconvert_exporter": "python",
   "pygments_lexer": "ipython3",
   "version": "3.6.1"
  }
 },
 "nbformat": 4,
 "nbformat_minor": 0
}
